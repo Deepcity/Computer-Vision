{
 "cells": [
  {
   "cell_type": "code",
   "id": "initial_id",
   "metadata": {
    "collapsed": true,
    "ExecuteTime": {
     "end_time": "2024-08-30T13:44:10.815899Z",
     "start_time": "2024-08-30T13:44:10.810005Z"
    }
   },
   "source": [
    "import torch\n",
    "\n",
    "x = torch.tensor([1.0], requires_grad=True)\n",
    "y = (x + 1) ** 2\n",
    "\n",
    "# 假设我们想要将梯度缩放为 2\n",
    "loss = y\n",
    "loss.backward(gradient=torch.tensor([2.0]))\n",
    "\n",
    "print(x.grad)  # 输出: tensor([4.])"
   ],
   "outputs": [
    {
     "name": "stdout",
     "output_type": "stream",
     "text": [
      "tensor([4.])\n"
     ]
    }
   ],
   "execution_count": 3
  },
  {
   "metadata": {},
   "cell_type": "markdown",
   "source": "",
   "id": "1a3717d5021a262"
  }
 ],
 "metadata": {
  "kernelspec": {
   "display_name": "Python 3",
   "language": "python",
   "name": "python3"
  },
  "language_info": {
   "codemirror_mode": {
    "name": "ipython",
    "version": 2
   },
   "file_extension": ".py",
   "mimetype": "text/x-python",
   "name": "python",
   "nbconvert_exporter": "python",
   "pygments_lexer": "ipython2",
   "version": "2.7.6"
  }
 },
 "nbformat": 4,
 "nbformat_minor": 5
}
